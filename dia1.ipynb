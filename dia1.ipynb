{
 "cells": [
  {
   "cell_type": "code",
   "execution_count": 3,
   "id": "73686e82",
   "metadata": {},
   "outputs": [
    {
     "name": "stdout",
     "output_type": "stream",
     "text": [
      "hola mundo\n"
     ]
    }
   ],
   "source": [
    "print('hola mundo')"
   ]
  },
  {
   "cell_type": "code",
   "execution_count": 10,
   "id": "7670f939",
   "metadata": {},
   "outputs": [
    {
     "name": "stdout",
     "output_type": "stream",
     "text": [
      "Stephan Edwards 29 Luque\n"
     ]
    }
   ],
   "source": [
    "nombre = 'Stephan Edwards'\n",
    "edad = '29'\n",
    "ciudad = 'Luque'\n",
    "\n",
    "print (nombre, edad, ciudad)\n"
   ]
  },
  {
   "cell_type": "code",
   "execution_count": null,
   "id": "34e50a62",
   "metadata": {},
   "outputs": [
    {
     "name": "stdout",
     "output_type": "stream",
     "text": [
      "Frutas totales 8\n",
      "Frutas restantes 4\n"
     ]
    }
   ],
   "source": [
    "# Operaciones\n",
    "\n",
    "cantidad_de_manzanas = 3\n",
    "cantidad_de_naranjas = 5\n",
    "cantidad_de_frutas = cantidad_de_manzanas + cantidad_de_naranjas\n",
    "\n",
    "print ('Frutas totales', cantidad_de_frutas)\n",
    "\n",
    "frutas_vendidas = 4\n",
    "frutas_restantes = cantidad_de_frutas - frutas_vendidas\n",
    "\n",
    "print ('Frutas restantes', frutas_restantes)\n"
   ]
  },
  {
   "cell_type": "code",
   "execution_count": null,
   "id": "03df93b8",
   "metadata": {},
   "outputs": [
    {
     "name": "stdout",
     "output_type": "stream",
     "text": [
      "Holla, me llamo Lucas Sosa .Mucho gusto!\n"
     ]
    }
   ],
   "source": [
    "# Concatenacion\n",
    "\n",
    "nombre = 'Lucas'\n",
    "apellido = 'Sosa'\n",
    "\n",
    "print (f'Holla, me llamo {nombre} {apellido} .Mucho gusto!')"
   ]
  },
  {
   "cell_type": "code",
   "execution_count": 25,
   "id": "5698316e",
   "metadata": {},
   "outputs": [
    {
     "name": "stdout",
     "output_type": "stream",
     "text": [
      "El resultado es 25\n"
     ]
    }
   ],
   "source": [
    "# Input\n",
    "\n",
    "edad1 = int(input('Ingrese un numero'))\n",
    "edad2 = int(input('Ingrese un numero'))\n",
    "\n",
    "resultado = edad1 + edad2\n",
    "\n",
    "print ('El resultado es', resultado)"
   ]
  },
  {
   "cell_type": "code",
   "execution_count": null,
   "id": "974f4a54",
   "metadata": {},
   "outputs": [
    {
     "name": "stdout",
     "output_type": "stream",
     "text": [
      "La actividad de Cardio agendas el dia Lunes!\n",
      "La actividad de Musculacion agendas el dia Martes!\n",
      "La actividad de Descanso agendas el dia Miercoles!\n"
     ]
    }
   ],
   "source": [
    "# Funciones def+funcion:\n",
    "\n",
    "def actividades():\n",
    "    actividad1 = input ('Ingrese una actividad')\n",
    "    dia_de_la_semana1 = input ('Ingrese un dia')\n",
    "    print (f'La actividad de {actividad1} agendas el dia {dia_de_la_semana1}!')\n",
    "\n",
    "actividades()\n",
    "actividades()\n",
    "actividades()"
   ]
  },
  {
   "cell_type": "code",
   "execution_count": 3,
   "id": "5c9d9c42",
   "metadata": {},
   "outputs": [
    {
     "name": "stdout",
     "output_type": "stream",
     "text": [
      "Selecciona las caracteristicas. \n",
      "Tipo de sensor: optico\n",
      "Cantidad de DPI maximo: 12000\n",
      "selecciona un color: negro\n"
     ]
    }
   ],
   "source": [
    "# Preparar cafe\n",
    "\n",
    "def comprar_mouse(sensor, dpi, color):\n",
    "    print ('Selecciona las caracteristicas. ')\n",
    "    print (f'Tipo de sensor: {sensor}')\n",
    "    print (f'Cantidad de DPI maximo: {dpi}')\n",
    "    print (f'selecciona un color: {color}')\n",
    "\n",
    "comprar_mouse('optico', '12000', 'negro')\n",
    "\n",
    "   \n",
    "\n",
    "\n",
    "    \n",
    "\n",
    "\n",
    "\n"
   ]
  }
 ],
 "metadata": {
  "kernelspec": {
   "display_name": ".venv",
   "language": "python",
   "name": "python3"
  },
  "language_info": {
   "codemirror_mode": {
    "name": "ipython",
    "version": 3
   },
   "file_extension": ".py",
   "mimetype": "text/x-python",
   "name": "python",
   "nbconvert_exporter": "python",
   "pygments_lexer": "ipython3",
   "version": "3.12.3"
  }
 },
 "nbformat": 4,
 "nbformat_minor": 5
}
