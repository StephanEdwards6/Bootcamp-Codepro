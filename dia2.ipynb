{
 "cells": [
  {
   "cell_type": "code",
   "execution_count": null,
   "id": "fe6df480",
   "metadata": {},
   "outputs": [],
   "source": [
    "def buscar_auto(marca, color, chapa, modelo):\n",
    "    print(f'Verificar los datos')\n",
    "    print('Retirar el vehiculo')\n",
    "    print('Cobrar el servicio')\n",
    "    print('Entregar al propietario')\n",
    "\n",
    "marca_del_vehiculo_usuario = input('Ingrese la marca de tu vehiculo')"
   ]
  },
  {
   "cell_type": "code",
   "execution_count": null,
   "id": "857eca93",
   "metadata": {},
   "outputs": [
    {
     "name": "stdout",
     "output_type": "stream",
     "text": [
      "Hace lo que quieras\n"
     ]
    }
   ],
   "source": [
    "# Condicionales\n",
    "\n",
    "edad = int (input('Introduzca su edad'))\n",
    "\n",
    "if edad >= 21:\n",
    "    print('Hace lo que quieras')\n",
    "\n",
    "elif edad <= 17:\n",
    "    print('Juguito nomas')\n",
    "\n",
    "else:\n",
    "    print('Podes tomar pero no comprar')"
   ]
  },
  {
   "cell_type": "code",
   "execution_count": 43,
   "id": "f9569e6f",
   "metadata": {},
   "outputs": [
    {
     "name": "stdout",
     "output_type": "stream",
     "text": [
      "Moriremos\n",
      "la temperatura es 55 celcius\n"
     ]
    }
   ],
   "source": [
    "# Operadores logicos\n",
    "\n",
    "temperatura = int(input('Ingrese una temperatura'))\n",
    "\n",
    "if temperatura >= -10 and temperatura <= 18:\n",
    "    print ('Fresquete')\n",
    "\n",
    "elif temperatura >= 19 and temperatura <= 30:\n",
    "    print ('Calor')\n",
    "\n",
    "elif temperatura >= 31 and temperatura <= 45:\n",
    "    print ('Haku')\n",
    "\n",
    "else:\n",
    "    print ('Moriremos')\n",
    "\n",
    "print (f'la temperatura es {temperatura} celcius')"
   ]
  },
  {
   "cell_type": "code",
   "execution_count": 50,
   "id": "1f26eba5",
   "metadata": {},
   "outputs": [
    {
     "name": "stdout",
     "output_type": "stream",
     "text": [
      "Datos incorrectos!\n",
      "Datos incorrectos!\n",
      "Datos incorrectos!\n",
      "Sus datos son correctos\n"
     ]
    }
   ],
   "source": [
    "# Bucle condicional - While\n",
    "\n",
    "datos = 'abc123'\n",
    "\n",
    "while True:\n",
    "    \n",
    "    datos_ingresados = input('Ingrese sus datos')\n",
    "    \n",
    "    if datos_ingresados != 'abc123':\n",
    "        print('Datos incorrectos!')\n",
    "    elif datos_ingresados == 'abc123':\n",
    "        print ('Sus datos son correctos')\n",
    "        break\n",
    "\n",
    "\n",
    "\n",
    "\n",
    "    "
   ]
  },
  {
   "cell_type": "code",
   "execution_count": 66,
   "id": "96c3a777",
   "metadata": {},
   "outputs": [
    {
     "name": "stdout",
     "output_type": "stream",
     "text": [
      "['sal', 'carne', 'arroz', 'queso', 'huevos']\n",
      "['sal', 'carne', 'arroz', 'queso', 'huevos', 'ajo']\n",
      "['sal', 'pescado', 'arroz', 'queso', 'huevos', 'ajo']\n",
      "['sal', 'pescado', 'queso', 'huevos', 'ajo']\n"
     ]
    }
   ],
   "source": [
    "# Lista - append(agregar)- [indice]= modificar - remove(valor) - pop (indice)\n",
    "\n",
    "lista_para_el_super = ['sal', 'carne', 'arroz', 'queso', 'huevos']\n",
    "\n",
    "print (lista_para_el_super)\n",
    "\n",
    "lista_para_el_super.append ('ajo')\n",
    "\n",
    "print (lista_para_el_super)\n",
    "\n",
    "lista_para_el_super [1] = 'pescado'\n",
    "\n",
    "print (lista_para_el_super)\n",
    "\n",
    "lista_para_el_super.pop(2)\n",
    "\n",
    "print (lista_para_el_super)"
   ]
  },
  {
   "cell_type": "code",
   "execution_count": null,
   "id": "62f5adc3",
   "metadata": {},
   "outputs": [
    {
     "name": "stdout",
     "output_type": "stream",
     "text": [
      "0\n",
      "2\n",
      "4\n",
      "6\n",
      "8\n",
      "10\n",
      "12\n",
      "14\n",
      "16\n",
      "18\n"
     ]
    }
   ],
   "source": [
    "# Bucle interactivo - for iterador in range\n",
    "\n",
    "for i in range (10):\n",
    "    print (i * 2)"
   ]
  },
  {
   "cell_type": "markdown",
   "id": "e9de055e",
   "metadata": {},
   "source": [
    "Recorrer los elementos de una lista de marcas e imprimir cada marca solamente si tiene 6 letras o más."
   ]
  },
  {
   "cell_type": "code",
   "execution_count": 81,
   "id": "9080b55f",
   "metadata": {},
   "outputs": [
    {
     "name": "stdout",
     "output_type": "stream",
     "text": [
      "Marshal\n",
      "Adidas\n",
      "Fender\n",
      "Mercedes\n",
      "Toyota\n",
      "Corsair\n"
     ]
    }
   ],
   "source": [
    "# for iterador in (lista) - lent (conteo de elementos)\n",
    "\n",
    "marcas = ['Marshal', 'Adidas', 'Fender', 'Mercedes', 'Toyota', 'Audi', 'Nike', 'Corsair', 'Razer']\n",
    "\n",
    "for marcas_con_6_caracteres in marcas :\n",
    "    if len (marcas_con_6_caracteres) >= 6:\n",
    "        print (marcas_con_6_caracteres)\n"
   ]
  },
  {
   "cell_type": "markdown",
   "id": "5fac7d02",
   "metadata": {},
   "source": [
    "Solicitar al usuario que ingrese una frase.\n",
    "\n",
    "Imprimir un mensaje cada vez que se encuentre una letra \"o\"."
   ]
  },
  {
   "cell_type": "code",
   "execution_count": 86,
   "id": "8b0b6375",
   "metadata": {},
   "outputs": [
    {
     "name": "stdout",
     "output_type": "stream",
     "text": [
      "Encontre la letra o\n",
      "Encontre la letra o\n"
     ]
    }
   ],
   "source": [
    "frase = input ('Introduce una frase')\n",
    "\n",
    "for letra_o in frase:\n",
    "    if letra_o == 'o' or letra_o == 'O':\n",
    "        print ('Encontre la letra o')"
   ]
  }
 ],
 "metadata": {
  "kernelspec": {
   "display_name": ".venv",
   "language": "python",
   "name": "python3"
  },
  "language_info": {
   "codemirror_mode": {
    "name": "ipython",
    "version": 3
   },
   "file_extension": ".py",
   "mimetype": "text/x-python",
   "name": "python",
   "nbconvert_exporter": "python",
   "pygments_lexer": "ipython3",
   "version": "3.12.3"
  }
 },
 "nbformat": 4,
 "nbformat_minor": 5
}
