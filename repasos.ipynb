{
 "cells": [
  {
   "cell_type": "code",
   "execution_count": 13,
   "id": "3918743b",
   "metadata": {},
   "outputs": [
    {
     "name": "stdout",
     "output_type": "stream",
     "text": [
      "5\n"
     ]
    },
    {
     "data": {
      "text/plain": [
       "<function __main__.suma(numero_1, numero_2)>"
      ]
     },
     "execution_count": 13,
     "metadata": {},
     "output_type": "execute_result"
    }
   ],
   "source": [
    "# Repaso (Fuciones)\n",
    "\n",
    "def suma (numero_1, numero_2):\n",
    "    print(numero_1 + numero_2)\n",
    "    return suma\n",
    "\n",
    "resultado = suma(2,3)\n",
    "\n",
    "suma\n",
    "\n"
   ]
  },
  {
   "cell_type": "markdown",
   "id": "bfca9c28",
   "metadata": {},
   "source": [
    "Crear una función calcular_area(base, altura) que retorne el área de un triángulo. \n",
    "\n",
    "Luego lo multiplicar por dos el resultado del area e imprimir el total"
   ]
  },
  {
   "cell_type": "code",
   "execution_count": 24,
   "id": "1c0d947b",
   "metadata": {},
   "outputs": [
    {
     "name": "stdout",
     "output_type": "stream",
     "text": [
      "20\n"
     ]
    },
    {
     "data": {
      "text/plain": [
       "<function __main__.calcular_el_area_del_triangulo(base, altura)>"
      ]
     },
     "execution_count": 24,
     "metadata": {},
     "output_type": "execute_result"
    }
   ],
   "source": [
    "def calcular_el_area_del_triangulo(base, altura):\n",
    "    area = (base*altura)//2\n",
    "    print (area*2)\n",
    "    return calcular_el_area_del_triangulo\n",
    "\n",
    "calcular_el_area_del_triangulo(4,5)\n",
    "\n",
    "\n"
   ]
  },
  {
   "cell_type": "markdown",
   "id": "207b5cb3",
   "metadata": {},
   "source": [
    "Crear un programa que solicite un número  al usuario\n",
    "\n",
    "y nos diga si el numero es:\n",
    "    'positivo' \n",
    "    'negativo' \n",
    "    'o Cero. '"
   ]
  },
  {
   "cell_type": "code",
   "execution_count": 39,
   "id": "cde56bfa",
   "metadata": {},
   "outputs": [
    {
     "name": "stdout",
     "output_type": "stream",
     "text": [
      "El numero es negativo\n"
     ]
    }
   ],
   "source": [
    "# Condicionales 'if' 'elif' 'else'\n",
    "\n",
    "\n",
    "\n",
    "def numero():\n",
    "    \n",
    "    numero_del_usuario = int(input('Introduzca un numero'))\n",
    "\n",
    "    if numero_del_usuario > 0:\n",
    "        print('El numero es positivo')\n",
    "\n",
    "    elif numero_del_usuario == 0:\n",
    "        print('El numero es 0')\n",
    "\n",
    "    else:\n",
    "        print('El numero es negativo')\n",
    "\n",
    "numero()"
   ]
  },
  {
   "cell_type": "code",
   "execution_count": 42,
   "id": "aed5b724",
   "metadata": {},
   "outputs": [
    {
     "name": "stdout",
     "output_type": "stream",
     "text": [
      "El numero es 0\n"
     ]
    }
   ],
   "source": [
    "numero_del_usuario = int(input('Introduzca un numero'))\n",
    "\n",
    "if numero_del_usuario > 0:\n",
    "    print('El numero es positivo')\n",
    "\n",
    "elif numero_del_usuario == 0:\n",
    "    print('El numero es 0')\n",
    "\n",
    "else:\n",
    "    print('El numero es negativo')"
   ]
  },
  {
   "cell_type": "code",
   "execution_count": null,
   "id": "4b062713",
   "metadata": {},
   "outputs": [
    {
     "name": "stdout",
     "output_type": "stream",
     "text": [
      "2\n",
      "4\n",
      "6\n",
      "8\n",
      "10\n"
     ]
    },
    {
     "ename": "TypeError",
     "evalue": "'int' object is not iterable",
     "output_type": "error",
     "traceback": [
      "\u001b[31m---------------------------------------------------------------------------\u001b[39m",
      "\u001b[31mTypeError\u001b[39m                                 Traceback (most recent call last)",
      "\u001b[36mCell\u001b[39m\u001b[36m \u001b[39m\u001b[32mIn[49]\u001b[39m\u001b[32m, line 9\u001b[39m\n\u001b[32m      5\u001b[39m     \u001b[38;5;28mprint\u001b[39m(numero)\n\u001b[32m      7\u001b[39m suma_total = \u001b[32m0\u001b[39m\n\u001b[32m----> \u001b[39m\u001b[32m9\u001b[39m \u001b[38;5;28;43;01mfor\u001b[39;49;00m\u001b[43m \u001b[49m\u001b[43mlista_de_numeros\u001b[49m\u001b[43m \u001b[49m\u001b[38;5;129;43;01min\u001b[39;49;00m\u001b[43m \u001b[49m\u001b[43mnumero\u001b[49m\u001b[43m:\u001b[49m\n\u001b[32m     11\u001b[39m \u001b[43m    \u001b[49m\u001b[43msuma_total\u001b[49m \n",
      "\u001b[31mTypeError\u001b[39m: 'int' object is not iterable"
     ]
    }
   ],
   "source": [
    "#lista_de_numeros = [1,2,3,4,5,6,7,8,9,10]\n",
    "\n",
    "#for numero in lista_de_numeros:\n",
    "    \n",
    " #   print(numero)\n",
    "\n",
    "#suma_total = 0\n",
    "\n",
    "#for lista_de_numeros in numero:\n",
    "    \n",
    "#    suma_total "
   ]
  },
  {
   "cell_type": "markdown",
   "id": "f5d4e77d",
   "metadata": {},
   "source": [
    "Crear una lista con números ingresados por el usuario hasta que escriba 0 (luego salir del bucle), y luego mostrar el promedio."
   ]
  },
  {
   "cell_type": "code",
   "execution_count": null,
   "id": "e1a83996",
   "metadata": {},
   "outputs": [
    {
     "ename": "KeyboardInterrupt",
     "evalue": "Interrupted by user",
     "output_type": "error",
     "traceback": [
      "\u001b[31m---------------------------------------------------------------------------\u001b[39m",
      "\u001b[31mKeyboardInterrupt\u001b[39m                         Traceback (most recent call last)",
      "\u001b[36mCell\u001b[39m\u001b[36m \u001b[39m\u001b[32mIn[53]\u001b[39m\u001b[32m, line 4\u001b[39m\n\u001b[32m      1\u001b[39m numeros_ingresados = []\n\u001b[32m      3\u001b[39m \u001b[38;5;28;01mwhile\u001b[39;00m numeros_ingresados != \u001b[32m0\u001b[39m:\n\u001b[32m----> \u001b[39m\u001b[32m4\u001b[39m     numeros_ingresados = \u001b[38;5;28;43minput\u001b[39;49m\u001b[43m(\u001b[49m\u001b[33;43m'\u001b[39;49m\u001b[33;43mIngrese un numero\u001b[39;49m\u001b[33;43m'\u001b[39;49m\u001b[43m)\u001b[49m\n",
      "\u001b[36mFile \u001b[39m\u001b[32m~\\AppData\\Roaming\\Python\\Python313\\site-packages\\ipykernel\\kernelbase.py:1260\u001b[39m, in \u001b[36mKernel.raw_input\u001b[39m\u001b[34m(self, prompt)\u001b[39m\n\u001b[32m   1258\u001b[39m     msg = \u001b[33m\"\u001b[39m\u001b[33mraw_input was called, but this frontend does not support input requests.\u001b[39m\u001b[33m\"\u001b[39m\n\u001b[32m   1259\u001b[39m     \u001b[38;5;28;01mraise\u001b[39;00m StdinNotImplementedError(msg)\n\u001b[32m-> \u001b[39m\u001b[32m1260\u001b[39m \u001b[38;5;28;01mreturn\u001b[39;00m \u001b[38;5;28;43mself\u001b[39;49m\u001b[43m.\u001b[49m\u001b[43m_input_request\u001b[49m\u001b[43m(\u001b[49m\n\u001b[32m   1261\u001b[39m \u001b[43m    \u001b[49m\u001b[38;5;28;43mstr\u001b[39;49m\u001b[43m(\u001b[49m\u001b[43mprompt\u001b[49m\u001b[43m)\u001b[49m\u001b[43m,\u001b[49m\n\u001b[32m   1262\u001b[39m \u001b[43m    \u001b[49m\u001b[38;5;28;43mself\u001b[39;49m\u001b[43m.\u001b[49m\u001b[43m_parent_ident\u001b[49m\u001b[43m[\u001b[49m\u001b[33;43m\"\u001b[39;49m\u001b[33;43mshell\u001b[39;49m\u001b[33;43m\"\u001b[39;49m\u001b[43m]\u001b[49m\u001b[43m,\u001b[49m\n\u001b[32m   1263\u001b[39m \u001b[43m    \u001b[49m\u001b[38;5;28;43mself\u001b[39;49m\u001b[43m.\u001b[49m\u001b[43mget_parent\u001b[49m\u001b[43m(\u001b[49m\u001b[33;43m\"\u001b[39;49m\u001b[33;43mshell\u001b[39;49m\u001b[33;43m\"\u001b[39;49m\u001b[43m)\u001b[49m\u001b[43m,\u001b[49m\n\u001b[32m   1264\u001b[39m \u001b[43m    \u001b[49m\u001b[43mpassword\u001b[49m\u001b[43m=\u001b[49m\u001b[38;5;28;43;01mFalse\u001b[39;49;00m\u001b[43m,\u001b[49m\n\u001b[32m   1265\u001b[39m \u001b[43m\u001b[49m\u001b[43m)\u001b[49m\n",
      "\u001b[36mFile \u001b[39m\u001b[32m~\\AppData\\Roaming\\Python\\Python313\\site-packages\\ipykernel\\kernelbase.py:1305\u001b[39m, in \u001b[36mKernel._input_request\u001b[39m\u001b[34m(self, prompt, ident, parent, password)\u001b[39m\n\u001b[32m   1302\u001b[39m \u001b[38;5;28;01mexcept\u001b[39;00m \u001b[38;5;167;01mKeyboardInterrupt\u001b[39;00m:\n\u001b[32m   1303\u001b[39m     \u001b[38;5;66;03m# re-raise KeyboardInterrupt, to truncate traceback\u001b[39;00m\n\u001b[32m   1304\u001b[39m     msg = \u001b[33m\"\u001b[39m\u001b[33mInterrupted by user\u001b[39m\u001b[33m\"\u001b[39m\n\u001b[32m-> \u001b[39m\u001b[32m1305\u001b[39m     \u001b[38;5;28;01mraise\u001b[39;00m \u001b[38;5;167;01mKeyboardInterrupt\u001b[39;00m(msg) \u001b[38;5;28;01mfrom\u001b[39;00m\u001b[38;5;250m \u001b[39m\u001b[38;5;28;01mNone\u001b[39;00m\n\u001b[32m   1306\u001b[39m \u001b[38;5;28;01mexcept\u001b[39;00m \u001b[38;5;167;01mException\u001b[39;00m:\n\u001b[32m   1307\u001b[39m     \u001b[38;5;28mself\u001b[39m.log.warning(\u001b[33m\"\u001b[39m\u001b[33mInvalid Message:\u001b[39m\u001b[33m\"\u001b[39m, exc_info=\u001b[38;5;28;01mTrue\u001b[39;00m)\n",
      "\u001b[31mKeyboardInterrupt\u001b[39m: Interrupted by user"
     ]
    }
   ],
   "source": [
    "lista_de_numeros_a = []\n",
    "\n",
    "while lista_de_numeros_a != 0:\n",
    "    numeros_ingresados = input('Ingrese un numero')\n",
    "\n",
    "    "
   ]
  }
 ],
 "metadata": {
  "kernelspec": {
   "display_name": "Python 3",
   "language": "python",
   "name": "python3"
  },
  "language_info": {
   "codemirror_mode": {
    "name": "ipython",
    "version": 3
   },
   "file_extension": ".py",
   "mimetype": "text/x-python",
   "name": "python",
   "nbconvert_exporter": "python",
   "pygments_lexer": "ipython3",
   "version": "3.13.5"
  }
 },
 "nbformat": 4,
 "nbformat_minor": 5
}
