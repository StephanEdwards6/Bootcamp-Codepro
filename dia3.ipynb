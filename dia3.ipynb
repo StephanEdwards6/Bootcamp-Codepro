{
 "cells": [
  {
   "cell_type": "markdown",
   "id": "15e9bfa1",
   "metadata": {},
   "source": []
  },
  {
   "cell_type": "code",
   "execution_count": 7,
   "id": "352dd78f",
   "metadata": {},
   "outputs": [
    {
     "name": "stdout",
     "output_type": "stream",
     "text": [
      "Jamon\n"
     ]
    }
   ],
   "source": [
    "def palabra_1():\n",
    "    \n",
    "    variable = input ('Ingrese una palabra')\n",
    "\n",
    "    print (variable)\n",
    "\n",
    "palabra_1()\n"
   ]
  },
  {
   "cell_type": "code",
   "execution_count": 18,
   "id": "d873de74",
   "metadata": {},
   "outputs": [
    {
     "name": "stdout",
     "output_type": "stream",
     "text": [
      "Las letras son iguales\n"
     ]
    }
   ],
   "source": [
    "letra_1 = input ('Ingrese una letra')\n",
    "letra_2 = input ('Ingrese una letra')\n",
    "    \n",
    "def letras (letra_1, letra_2):\n",
    "    \n",
    "    if letra_1 == letra_2:\n",
    "        print ('Las letras son iguales')\n",
    "\n",
    "    else:\n",
    "        print ('Las letras son diferentes')\n",
    "    \n",
    "    \n",
    "letras (letra_1, letra_2)\n",
    "\n"
   ]
  },
  {
   "cell_type": "markdown",
   "id": "a2e250fb",
   "metadata": {},
   "source": [
    "Crear una función que reciba dos parámetros (una palabra y un número), y que retorne True si el número es igual a la cantidad de letras de la palabra. En caso contrario, que retorne False.\n",
    "\n",
    "Pista: cantidad de letras de una palabra en python"
   ]
  },
  {
   "cell_type": "code",
   "execution_count": 22,
   "id": "263d328c",
   "metadata": {},
   "outputs": [
    {
     "data": {
      "text/plain": [
       "False"
      ]
     },
     "execution_count": 22,
     "metadata": {},
     "output_type": "execute_result"
    }
   ],
   "source": [
    "palabra = str (input('Ingrese una palabra'))\n",
    "numero = int (input('Ingrese un numero'))\n",
    "\n",
    "def comparacion (palabra, numero):\n",
    "\n",
    "    cantidad = len (palabra)\n",
    "\n",
    "    if cantidad == numero:\n",
    "        return True\n",
    "    else :\n",
    "        return False\n",
    "    \n",
    "comparacion (palabra, numero)"
   ]
  },
  {
   "cell_type": "markdown",
   "id": "62a15f5c",
   "metadata": {},
   "source": [
    "Pedir al usuario que ingrese 1 palabra, luego convertir esa palabra a una lista con sus caracteres con list(). Agregar esa lista de caracteres a una lista llamada palabras_ingresadas. Repetir el proceso 3 veces. Cada vez que se agregue una lista de caracteres, imprimir la lista palabras_ingresadas.\n",
    "\n",
    "\n",
    "Ejemplo del resultado esperado:\n",
    "\n",
    "[['c', 'i', 'e', 'l', 'o']]\n",
    " # Al ingresar la primera palabra\n",
    "\n",
    "[['c', 'i', 'e', 'l', 'o'], ['c', 'a', 'l', 'o', 'r']]\n",
    " # Al ingresar la segunda palabra\n",
    "\n",
    "[['c', 'i', 'e', 'l', 'o'], ['c', 'a', 'l', 'o', 'r'], ['n', 'u', 'b', 'e', 's']]\n",
    " # Al ingresar la tercera palabra"
   ]
  },
  {
   "cell_type": "code",
   "execution_count": null,
   "id": "96f5e771",
   "metadata": {},
   "outputs": [
    {
     "name": "stdout",
     "output_type": "stream",
     "text": [
      "[['J', 'a', 'm', 'o', 'n']]\n",
      "[['J', 'a', 'm', 'o', 'n'], ['C', 'a', 'r', 'n', 'e']]\n",
      "[['J', 'a', 'm', 'o', 'n'], ['C', 'a', 'r', 'n', 'e'], ['H', 'u', 'e', 'v', 'o', 's']]\n"
     ]
    }
   ],
   "source": [
    "# Usar [] crea una lista vacia\n",
    "\n",
    "palabras_ingresadas = []\n",
    "\n",
    "for palabra_ingresadas in range (3):\n",
    "\n",
    "    palabra_a_ingresar = input ('Ingrese una palabra')\n",
    "    \n",
    "    palabra_a_ingresar = list (palabra_a_ingresar)\n",
    "\n",
    "    palabras_ingresadas.append(palabra_a_ingresar)\n",
    "\n",
    "    print (palabras_ingresadas)"
   ]
  },
  {
   "cell_type": "markdown",
   "id": "b5cbc717",
   "metadata": {},
   "source": [
    "'for' itera, recorre los elementos de una lista\n",
    "\n",
    "Dada la lista de ejemplo: \n",
    "\n",
    "lista = [['h', 'o', 'l', 'i', 's'], ['h', 'e', 'l', 'l', 'o'], ['h', 'a', 'l', 'l', 'o']]\n",
    "\n",
    "Crear una función que imprima una grilla (lista de listas), una línea por cada lista dentro de la lista principal.\n",
    "\n",
    "Ejemplo del resultado esperado:\n",
    "\n",
    "\n",
    "['h', 'o', 'l', 'i', 's']\n",
    "['h', 'e', 'l', 'l', 'o']\n",
    "['h', 'a', 'l', 'l', 'o']"
   ]
  },
  {
   "cell_type": "code",
   "execution_count": null,
   "id": "fd344009",
   "metadata": {},
   "outputs": [
    {
     "data": {
      "text/plain": [
       "<function __main__.grilla()>"
      ]
     },
     "execution_count": 43,
     "metadata": {},
     "output_type": "execute_result"
    }
   ],
   "source": [
    "# al usar 'for' si no usaremos numeros o rangos no hace falta poner 'range (numero)'\n",
    "\n",
    "grilla = [['h', 'o', 'l', 'i', 's'], ['h', 'e', 'l', 'l', 'o'], ['h', 'a', 'l', 'l', 'o']]\n",
    "\n",
    "def listas():\n",
    "\n",
    "    for elementos in grilla:\n",
    "        \n",
    "        print (elementos)\n",
    "\n",
    "\n",
    "grilla"
   ]
  },
  {
   "cell_type": "markdown",
   "id": "9259a1e7",
   "metadata": {},
   "source": []
  },
  {
   "cell_type": "code",
   "execution_count": null,
   "id": "3c2695e1",
   "metadata": {},
   "outputs": [
    {
     "name": "stdout",
     "output_type": "stream",
     "text": [
      "Incorrecto!. Tienes 4\n",
      "Incorrecto!. Tienes 4\n",
      "Incorrecto!. Tienes 4\n",
      "Incorrecto!. Tienes 4\n",
      "Incorrecto!. Tienes 4\n",
      "Incorrecto!. Tienes 4\n",
      "Incorrecto!. Tienes 4\n",
      "Incorrecto!. Tienes 4\n",
      "Incorrecto!. Tienes 4\n",
      "Incorrecto!. Tienes 4\n",
      "Incorrecto!. Tienes 4\n",
      "Incorrecto!. Tienes 4\n",
      "Incorrecto!. Tienes 4\n",
      "Incorrecto!. Tienes 4\n",
      "Felicidades, encontraste la palabra!\n"
     ]
    }
   ],
   "source": [
    "# Wordle\n",
    "\n",
    "palabra_a_encontrar = 'arbol'\n",
    "\n",
    "intentos = 5\n",
    "\n",
    "\n",
    "while intentos > 0 :\n",
    "\n",
    "    palabra_ingresada = input ('Ingrese una palabra de 5 letras')\n",
    "\n",
    "    if palabra_ingresada == palabra_a_encontrar:\n",
    "        \n",
    "        print ('Felicidades, encontraste la palabra!')\n",
    "\n",
    "        break\n",
    "\n",
    "    \n",
    "    elif intentos -1 :\n",
    "\n",
    "        print ({letras_verificadas}', te quedan {intentos} intentos')\n",
    "\n",
    "    else:\n",
    "   \n",
    "        print ('Lo siento, perdiste!')\n",
    "\n",
    "    def obtener_fila_verificada(palabra_a_encontrar, palabra_ingresada):\n",
    "        \n",
    "        cantidad_de_letras = 5\n",
    "\n",
    "        letras_verficadas = []\n",
    "\n",
    "        for posicion in range(cantidad_de_letras):\n",
    "            #Si la letra coincide con la posicion\n",
    "            letras_son_iguales = palabra_a_encontrar[posicion] == palabra_ingresada[posicion]\n",
    "\n",
    "            la_letra_existe_en_la_palabra = palabra_ingresada[posicion] in palabra_a_encontrar\n",
    "\n",
    "            if letras_son_iguales:\n",
    "\n",
    "                letras_verficadas.append(\"[\" + palabra_ingresada[posicion] + \"]\")\n",
    "            \n",
    "            elif la_letra_existe_en_la_palabra:\n",
    "                letras_verficadas.append(f\"({palabra_ingresada[posicion]})\")\n",
    "\n",
    "            else:\n",
    "                letras_verficadas.append(palabra_ingresada[posicion])\n",
    "\n",
    "        return letras_verficadas\n",
    "    \n",
    "    \n"
   ]
  },
  {
   "cell_type": "code",
   "execution_count": null,
   "id": "fe394bf4",
   "metadata": {},
   "outputs": [
    {
     "name": "stdout",
     "output_type": "stream",
     "text": [
      " Wordle, adivine la palbra de 5 letras\n",
      "Tienes 5 intentos\n",
      "Te quedan 4 intentos\n"
     ]
    },
    {
     "ename": "KeyboardInterrupt",
     "evalue": "Interrupted by user",
     "output_type": "error",
     "traceback": [
      "\u001b[31m---------------------------------------------------------------------------\u001b[39m",
      "\u001b[31mKeyboardInterrupt\u001b[39m                         Traceback (most recent call last)",
      "\u001b[36mCell\u001b[39m\u001b[36m \u001b[39m\u001b[32mIn[61]\u001b[39m\u001b[32m, line 11\u001b[39m\n\u001b[32m      7\u001b[39m \u001b[38;5;28mprint\u001b[39m (\u001b[33m'\u001b[39m\u001b[33mTienes 5 intentos\u001b[39m\u001b[33m'\u001b[39m)\n\u001b[32m      9\u001b[39m \u001b[38;5;28;01mwhile\u001b[39;00m intentos > \u001b[32m0\u001b[39m :\n\u001b[32m---> \u001b[39m\u001b[32m11\u001b[39m     palabra_ingresada = \u001b[38;5;28;43minput\u001b[39;49m\u001b[43m \u001b[49m\u001b[43m(\u001b[49m\u001b[33;43m'\u001b[39;49m\u001b[33;43mIngrese una palabra\u001b[39;49m\u001b[33;43m'\u001b[39;49m\u001b[43m)\u001b[49m\n\u001b[32m     13\u001b[39m     \u001b[38;5;28;01mif\u001b[39;00m palabra_ingresada == palabra_a_encontrar:\n\u001b[32m     15\u001b[39m         \u001b[38;5;28mprint\u001b[39m (\u001b[33m'\u001b[39m\u001b[33mFelicidades, acertaste la palabra!\u001b[39m\u001b[33m'\u001b[39m)\n",
      "\u001b[36mFile \u001b[39m\u001b[32m~/Escritorio/Penguin/Bootcamp/.venv/lib/python3.12/site-packages/ipykernel/kernelbase.py:1260\u001b[39m, in \u001b[36mKernel.raw_input\u001b[39m\u001b[34m(self, prompt)\u001b[39m\n\u001b[32m   1258\u001b[39m     msg = \u001b[33m\"\u001b[39m\u001b[33mraw_input was called, but this frontend does not support input requests.\u001b[39m\u001b[33m\"\u001b[39m\n\u001b[32m   1259\u001b[39m     \u001b[38;5;28;01mraise\u001b[39;00m StdinNotImplementedError(msg)\n\u001b[32m-> \u001b[39m\u001b[32m1260\u001b[39m \u001b[38;5;28;01mreturn\u001b[39;00m \u001b[38;5;28;43mself\u001b[39;49m\u001b[43m.\u001b[49m\u001b[43m_input_request\u001b[49m\u001b[43m(\u001b[49m\n\u001b[32m   1261\u001b[39m \u001b[43m    \u001b[49m\u001b[38;5;28;43mstr\u001b[39;49m\u001b[43m(\u001b[49m\u001b[43mprompt\u001b[49m\u001b[43m)\u001b[49m\u001b[43m,\u001b[49m\n\u001b[32m   1262\u001b[39m \u001b[43m    \u001b[49m\u001b[38;5;28;43mself\u001b[39;49m\u001b[43m.\u001b[49m\u001b[43m_parent_ident\u001b[49m\u001b[43m[\u001b[49m\u001b[33;43m\"\u001b[39;49m\u001b[33;43mshell\u001b[39;49m\u001b[33;43m\"\u001b[39;49m\u001b[43m]\u001b[49m\u001b[43m,\u001b[49m\n\u001b[32m   1263\u001b[39m \u001b[43m    \u001b[49m\u001b[38;5;28;43mself\u001b[39;49m\u001b[43m.\u001b[49m\u001b[43mget_parent\u001b[49m\u001b[43m(\u001b[49m\u001b[33;43m\"\u001b[39;49m\u001b[33;43mshell\u001b[39;49m\u001b[33;43m\"\u001b[39;49m\u001b[43m)\u001b[49m\u001b[43m,\u001b[49m\n\u001b[32m   1264\u001b[39m \u001b[43m    \u001b[49m\u001b[43mpassword\u001b[49m\u001b[43m=\u001b[49m\u001b[38;5;28;43;01mFalse\u001b[39;49;00m\u001b[43m,\u001b[49m\n\u001b[32m   1265\u001b[39m \u001b[43m\u001b[49m\u001b[43m)\u001b[49m\n",
      "\u001b[36mFile \u001b[39m\u001b[32m~/Escritorio/Penguin/Bootcamp/.venv/lib/python3.12/site-packages/ipykernel/kernelbase.py:1305\u001b[39m, in \u001b[36mKernel._input_request\u001b[39m\u001b[34m(self, prompt, ident, parent, password)\u001b[39m\n\u001b[32m   1302\u001b[39m \u001b[38;5;28;01mexcept\u001b[39;00m \u001b[38;5;167;01mKeyboardInterrupt\u001b[39;00m:\n\u001b[32m   1303\u001b[39m     \u001b[38;5;66;03m# re-raise KeyboardInterrupt, to truncate traceback\u001b[39;00m\n\u001b[32m   1304\u001b[39m     msg = \u001b[33m\"\u001b[39m\u001b[33mInterrupted by user\u001b[39m\u001b[33m\"\u001b[39m\n\u001b[32m-> \u001b[39m\u001b[32m1305\u001b[39m     \u001b[38;5;28;01mraise\u001b[39;00m \u001b[38;5;167;01mKeyboardInterrupt\u001b[39;00m(msg) \u001b[38;5;28;01mfrom\u001b[39;00m\u001b[38;5;250m \u001b[39m\u001b[38;5;28;01mNone\u001b[39;00m\n\u001b[32m   1306\u001b[39m \u001b[38;5;28;01mexcept\u001b[39;00m \u001b[38;5;167;01mException\u001b[39;00m:\n\u001b[32m   1307\u001b[39m     \u001b[38;5;28mself\u001b[39m.log.warning(\u001b[33m\"\u001b[39m\u001b[33mInvalid Message:\u001b[39m\u001b[33m\"\u001b[39m, exc_info=\u001b[38;5;28;01mTrue\u001b[39;00m)\n",
      "\u001b[31mKeyboardInterrupt\u001b[39m: Interrupted by user"
     ]
    }
   ],
   "source": [
    "palabra_a_encontrar = 'arbol'\n",
    "\n",
    "intentos = 5\n",
    "\n",
    "print (' Wordle, adivine la palbra de 5 letras')\n",
    "\n",
    "print ('Tienes 5 intentos')\n",
    "\n",
    "while intentos > 0 :\n",
    "    \n",
    "    palabra_ingresada = input ('Ingrese una palabra')\n",
    "\n",
    "    \n",
    "\n",
    "    if palabra_ingresada == palabra_a_encontrar:\n",
    "        \n",
    "        print ('Felicidades, acertaste la palabra!')\n",
    "\n",
    "        break\n",
    "\n",
    "    intentos = intentos - 1\n",
    "    \n",
    "    print (f'Te quedan {intentos} intentos')\n",
    "\n",
    "if intentos == 0 :\n",
    "\n",
    "    print ('Lo siento, te quedaste sin intentos')"
   ]
  }
 ],
 "metadata": {
  "kernelspec": {
   "display_name": ".venv",
   "language": "python",
   "name": "python3"
  },
  "language_info": {
   "codemirror_mode": {
    "name": "ipython",
    "version": 3
   },
   "file_extension": ".py",
   "mimetype": "text/x-python",
   "name": "python",
   "nbconvert_exporter": "python",
   "pygments_lexer": "ipython3",
   "version": "3.12.3"
  }
 },
 "nbformat": 4,
 "nbformat_minor": 5
}
