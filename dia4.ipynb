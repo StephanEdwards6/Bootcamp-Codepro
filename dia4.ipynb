{
 "cells": [
  {
   "cell_type": "code",
   "execution_count": 15,
   "id": "cdb55fe7",
   "metadata": {},
   "outputs": [
    {
     "name": "stdout",
     "output_type": "stream",
     "text": [
      "Me llamo michi y soy un gato de color negro \n"
     ]
    }
   ],
   "source": [
    "# Programacion orientada a objetos (class)\n",
    "\n",
    "class Animales:\n",
    "#atributos de clase \n",
    "    especie = 'felino'\n",
    "\n",
    "    def __init__(self, nombre, color):\n",
    "        \n",
    "        self.nombre = nombre\n",
    "        self.color = color \n",
    "\n",
    "    def habla(self):\n",
    "        print('miau')\n",
    "        \n",
    "\n",
    "        \n",
    "\n",
    "gato1 = Animales('michi', 'negro')\n",
    "\n",
    "print(f'Me llamo {gato1.nombre} y soy un gato de color {gato1.color} ')\n"
   ]
  },
  {
   "cell_type": "markdown",
   "id": "9f6d907b",
   "metadata": {},
   "source": [
    "Crear dos métodos para nuestro animal y ejecutar, debe ser algo específico de ese animal.\n",
    "\n",
    "Ejemplo: \"Cuando hablo, digo X\".\n",
    "Ejemplo: \"Cuando me muevo, hago X\"."
   ]
  },
  {
   "cell_type": "code",
   "execution_count": null,
   "id": "7a444caf",
   "metadata": {},
   "outputs": [
    {
     "name": "stdout",
     "output_type": "stream",
     "text": [
      "Cuando hablo, digo ssssss\n",
      "Cuando me muevo repto\n"
     ]
    }
   ],
   "source": [
    "\n",
    "#class Animal:\n",
    "\n",
    " #   especie = 'reptil'\n",
    "\n",
    "#    def __init__(self, hablar, movimiento):\n",
    "        \n",
    "  #      self.hablar = hablar\n",
    " #       self.movimiento = movimiento\n",
    "\n",
    "   # def acciones():\n",
    "    #        print(f'Cuando hablo digo {serpiente.hablar}')\n",
    "     #       print(f'Cuando me muevo, {serpiente.movimiento}')\n",
    "\n",
    "#serpiente = Animal('ssssss', 'repto')\n",
    "#print(f'Cuando hablo, digo {serpiente.hablar}')\n",
    "#print(f'Cuando me muevo {serpiente.movimiento}')\n",
    "\n",
    "\n",
    "\n"
   ]
  },
  {
   "cell_type": "markdown",
   "id": "f2e87dc4",
   "metadata": {},
   "source": []
  },
  {
   "cell_type": "code",
   "execution_count": 28,
   "id": "1aec6dca",
   "metadata": {},
   "outputs": [
    {
     "name": "stdout",
     "output_type": "stream",
     "text": [
      "Tengo exoesqueleto\n",
      "Tengo 8 patas\n"
     ]
    }
   ],
   "source": [
    "# Clase (class)\n",
    "class Aracnidos:\n",
    "    especie = 'Soy un aracnido, Escorpion'\n",
    "    # Atributo de clase\n",
    "    def __init__(self, patas, exoesqueleto):\n",
    "        self.patas = patas\n",
    "        self.exoesqueleto = exoesqueleto\n",
    "    # Metodos\n",
    "    def cantidad_de_patas(self):\n",
    "        print('Tengo 8 patas')\n",
    "    \n",
    "    def exoesqueletos(self):\n",
    "        print('Tengo exoesqueleto')\n",
    "\n",
    "class Garrapata(Aracnidos):\n",
    "    \n",
    "    def forma(self):\n",
    "        print('Tengo cuerpo mas ovalado')\n",
    "    \n",
    "    def reproduccion(self):\n",
    "        print ('Pongo menos huevos')\n",
    "\n",
    "Garrapata.exoesqueletos(Garrapata)\n",
    "Garrapata.cantidad_de_patas(Garrapata)\n",
    "\n"
   ]
  },
  {
   "cell_type": "markdown",
   "id": "e0afce91",
   "metadata": {},
   "source": [
    "Escribir un programa que cree un diccionario vacío y lo vaya llenado con información sobre una persona (por ejemplo nombre, edad, sexo, teléfono, correo electrónico, etc.) que se le pida al usuario. \n",
    "\n",
    "Cada vez que se añada un nuevo dato debe imprimirse el contenido del diccionario."
   ]
  },
  {
   "cell_type": "code",
   "execution_count": 39,
   "id": "22d49d9c",
   "metadata": {},
   "outputs": [
    {
     "name": "stdout",
     "output_type": "stream",
     "text": [
      "Stephan\n",
      "29\n",
      "61416461\n",
      "stephan@mail\n"
     ]
    }
   ],
   "source": [
    "directorio = {}\n",
    "\n",
    "nombre = input('Intruzca nombre y apellido')\n",
    "directorio['Nombre'] = nombre\n",
    "print(nombre)\n",
    "\n",
    "edad = input('Introduzaca su edad')\n",
    "directorio['edad'] = edad\n",
    "print(edad)\n",
    "\n",
    "telefono = input('Introduzca su numero de telefono')\n",
    "directorio['Telefono'] = telefono\n",
    "print(telefono)\n",
    "\n",
    "correo = input('Introduzca su coreo electronico')\n",
    "directorio['Correo'] = correo\n",
    "print(correo)\n",
    "\n",
    "directorio = [nombre,edad,telefono,correo]\n",
    "\n"
   ]
  },
  {
   "cell_type": "markdown",
   "id": "8a9348b9",
   "metadata": {},
   "source": [
    "Crear una tarjeta personal. El usuario (mediante input) puede elegir:\n",
    "\n",
    "Crear datos nuevos\n",
    "Modificar datos\n",
    "Eliminar datos"
   ]
  },
  {
   "cell_type": "markdown",
   "id": "9ca33999",
   "metadata": {},
   "source": [
    "Crear una agenda de contactos. El usuario puede elegir:\n",
    "\n",
    "Mostrar los contactos\n",
    "Crear contacto\n",
    "Modificar datos del contacto"
   ]
  },
  {
   "cell_type": "code",
   "execution_count": null,
   "id": "05a05dcb",
   "metadata": {},
   "outputs": [
    {
     "name": "stdout",
     "output_type": "stream",
     "text": [
      "Menu de opciones\n",
      "1 para crear un nuevo dato\n",
      "2 para modificar un dato\n",
      "3 para eliminar un dato\n",
      "4 para salir del menu\n"
     ]
    }
   ],
   "source": [
    "# Diccionario\n",
    "\n",
    "agenda_de_contactos = {}\n",
    "\n",
    "while True:\n",
    "    \n",
    "    print('Agenda de contactos')\n",
    "    print('1 para crear un nuevo contacto')\n",
    "    print('2 para modificar un contacto')\n",
    "    print('3 para mostrar los contactos')\n",
    "    print('4 para salir del menu')\n",
    "\n",
    "    break\n",
    "\n",
    "contacto = input('Elige una opcion')\n",
    "\n",
    "if contacto == 1:\n",
    "    if agenda_de_contactos:\n",
    "        "
   ]
  },
  {
   "cell_type": "markdown",
   "id": "530f25d9",
   "metadata": {},
   "source": []
  }
 ],
 "metadata": {
  "kernelspec": {
   "display_name": ".venv",
   "language": "python",
   "name": "python3"
  },
  "language_info": {
   "codemirror_mode": {
    "name": "ipython",
    "version": 3
   },
   "file_extension": ".py",
   "mimetype": "text/x-python",
   "name": "python",
   "nbconvert_exporter": "python",
   "pygments_lexer": "ipython3",
   "version": "3.12.3"
  }
 },
 "nbformat": 4,
 "nbformat_minor": 5
}
